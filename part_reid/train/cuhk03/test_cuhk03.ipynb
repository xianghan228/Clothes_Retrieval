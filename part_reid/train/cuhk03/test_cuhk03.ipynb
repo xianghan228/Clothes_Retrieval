{
 "cells": [
  {
   "cell_type": "code",
   "execution_count": 5,
   "metadata": {
    "collapsed": false
   },
   "outputs": [],
   "source": [
    "import numpy as np\n",
    "import caffe"
   ]
  },
  {
   "cell_type": "code",
   "execution_count": 13,
   "metadata": {
    "collapsed": false
   },
   "outputs": [],
   "source": [
    "#init net\n",
    "DATASET_DIR='../../dataset/cuhk03/cuhk03_release/data/'\n",
    "EXP_NAME='./fullnet/'\n",
    "MODEL_FILE = EXP_NAME+'test.prototxt'\n",
    "PRETRAINED = EXP_NAME+'snapshot/model_iter_100000.caffemodel' \n",
    "model_name = EXP_NAME+PRETRAINED[PRETRAINED.rfind('_'):-11]\n",
    "\n",
    "caffe.set_device(1)\n",
    "caffe.set_mode_gpu()\n",
    "net = caffe.Classifier(MODEL_FILE, PRETRAINED,caffe.TEST)"
   ]
  },
  {
   "cell_type": "code",
   "execution_count": null,
   "metadata": {
    "collapsed": false
   },
   "outputs": [],
   "source": []
  },
  {
   "cell_type": "code",
   "execution_count": 14,
   "metadata": {
    "collapsed": false
   },
   "outputs": [],
   "source": [
    "def evaluateCMC(gtLabels,predictLists):\n",
    "    N=len(gtLabels)\n",
    "    R=len(predictLists[0])\n",
    "    histogram=np.zeros(N)\n",
    "    meanAP=0.0\n",
    "    for testIdx in range(N):\n",
    "        #cmc and meanAP\n",
    "        matched_num=0.0\n",
    "        sum_precision=0.0\n",
    "        for rankIdx in range(R):\n",
    "            if predictLists[testIdx][rankIdx]==gtLabels[testIdx]:\n",
    "                matched_num+=1.0\n",
    "                sum_precision+=matched_num/(rankIdx+1)\n",
    "                histogram[rankIdx]+=1\n",
    "                break\n",
    "        meanAP+=sum_precision\n",
    "    #all\n",
    "    cmc=np.cumsum(histogram)\n",
    "    return cmc/N,meanAP/N\n",
    "\n",
    "def readList(list_name,rand_seed,DATA_DIR=DATASET_DIR): \n",
    "    import random\n",
    "    import os\n",
    "    file_object = open(list_name)\n",
    "    try:\n",
    "        all_the_text = file_object.read()\n",
    "    finally:\n",
    "        file_object.close()\n",
    "\n",
    "    lines = all_the_text.split('\\n')\n",
    "    #print all_the_text\n",
    "    probes=[]\n",
    "    gallerys=[]\n",
    "    #make sure random keeps seems for all experiments\n",
    "    random.seed(rand_seed+2015)\n",
    "    for filename in lines:\n",
    "        if filename!='' :\n",
    "            campair_no = int(filename.split(',')[0])\n",
    "            person_id = int(filename.split(',')[1])\n",
    "            #print int(campair_no)\n",
    "            while True:\n",
    "                probe_no=random.randint(1,5)\n",
    "                probe_filename = DATA_DIR +  'campair_%d/'%campair_no + \\\n",
    "                                '%02d_%04d_%02d.jpg'%(campair_no,person_id,probe_no)\n",
    "                if os.path.isfile(probe_filename):\n",
    "                    probes.append(probe_filename)\n",
    "                    break\n",
    "            while True:\n",
    "                gallery_no=random.randint(6,10)  \n",
    "                gallery_filename = DATA_DIR +  'campair_%d/'%campair_no + \\\n",
    "                                    '%02d_%04d_%02d.jpg'%(campair_no,person_id,gallery_no)\n",
    "                if os.path.isfile(gallery_filename):\n",
    "                    gallerys.append(gallery_filename)\n",
    "                    break\n",
    "    if len(probes)!=len(gallerys):\n",
    "        print('something wrong! list length does not match!/n')\n",
    "        return 0\n",
    "    else:\n",
    "        return probes,gallerys\n",
    "\n",
    "\n",
    "def calCMC(net,set_no,rand_times=10,DATA_DIR=DATASET_DIR):\n",
    "    list_dir=DATA_DIR[:-1]\n",
    "    list_name=list_dir[:list_dir.rfind('/')+1]+'exp_set/set%02d_test_noval.txt'%(set_no)\n",
    "    print list_name+'\\n'\n",
    "    #rand 10 times for stable result\n",
    "    cmc_list=[]\n",
    "    map_list=[]\n",
    "    rand_seeds=range(rand_times)\n",
    "    for i in range(rand_times):\n",
    "        print 'Round %d with rand list:'%i\n",
    "        probes,gallerys=readList(list_name,rand_seeds[i],DATA_DIR)\n",
    "        scoreList,predictLists=generateScoreList(net,probes,gallerys)\n",
    "        gtLabels=range(len(probes))\n",
    "        cmc,mAP=evaluateCMC(gtLabels,predictLists)\n",
    "        cmc_list.append(cmc)\n",
    "        map_list.append(mAP)\n",
    "        print cmc[0:5],mAP\n",
    "    return np.average(cmc_list,axis=0),np.average(map_list,axis=0)\n",
    "\n",
    "def getCVPRcmc():\n",
    "    #return the cmc values, 100 dim vetor\n",
    "    import numpy as np\n",
    "    cmcIndex=[0,4,8,12,16,21,25,29,33,37,41,45,49,53]\n",
    "    cmcOfCVPRImproved=[0.5474,0.8753,0.9293,0.9712,0.9764,0.9811,0.9899,0.9901,0.9912,0.9922,0.9937,0.9945,0.9951,1]\n",
    "    pOfCVPRImproved = np.poly1d(np.polyfit(cmcIndex,cmcOfCVPRImproved,10))\n",
    "    x_line=range(50)\n",
    "    cmc=pOfCVPRImproved(x_line)\n",
    "    return cmc\n",
    "\n",
    "def plotCMC(cmcDict):\n",
    "    import matplotlib.pyplot as plt\n",
    "    get_ipython().magic(u'matplotlib inline')\n",
    "    from matplotlib.legend_handler import HandlerLine2D\n",
    "    import numpy as np\n",
    "\n",
    "    #plot the cmc curve, record CVPR from the pdf paper.cmc[0,4,8,12,16,21,25,29,33,37,41,45,49]\n",
    "    rank2show=20\n",
    "    rankStep=4\n",
    "    cmcIndex=np.arange(0,rank2show,rankStep)   #0,5,10,15,20,25\n",
    "\n",
    "    colorList=['g','b','r','y','c','m','k']\n",
    "    #start to plot\n",
    "    plt.figure(figsize=(6,5),dpi=180)\n",
    "    sortedCmcDict = sorted(cmcDict.items(), key=lambda (k, v): v[1])[::-1]\n",
    "    for idx in range(len(sortedCmcDict)):\n",
    "        cmc_dictList=sortedCmcDict[idx]\n",
    "        cmc_name=cmc_dictList[0]\n",
    "        cmc_list=cmc_dictList[1]\n",
    "        #print cmc_name,\": \",cmc_list\n",
    "        #x for plot\n",
    "        x_point=[item+1 for item in cmcIndex]\n",
    "        x_line=range(rank2show)\n",
    "        x_plot=[temp+1 for temp in x_line]\n",
    "        #start plot\n",
    "        plt.plot(x_plot, cmc_list[x_line],colorList[idx],label=\"%02.02f%% %s\"%(100*cmc_list[0],cmc_name))\n",
    "        plt.plot(x_point,cmc_list[cmcIndex],colorList[idx]+'*')\n",
    "        #plt.legend(loc=4,handler_map={line: HandlerLine2D(numpoints=1)})\n",
    "        #idx of color +1\n",
    "        idx+=1\n",
    "    #something to render\n",
    "    plt.xlabel('Rank')\n",
    "    plt.ylabel('Identification Rate')\n",
    "    plt.xticks(np.arange(0,rank2show+1,5))\n",
    "    plt.yticks(np.arange(0.5,1.01,0.1))\n",
    "    plt.grid()\n",
    "    plt.legend(loc=4)\n",
    "    plt.show()\n",
    "    #end of show"
   ]
  },
  {
   "cell_type": "code",
   "execution_count": 34,
   "metadata": {
    "collapsed": false
   },
   "outputs": [],
   "source": [
    "N,C,H,W=net.blobs['data'].data.shape\n",
    "h=5;w=5 #padding\n",
    "transformer = caffe.io.Transformer({'data': (N,C,H+h*2,W+w*2)})\n",
    "transformer.set_transpose('data', (2,0,1))\n",
    "transformer.set_mean('data', np.array([ 104,  117,  123])) # mean pixel\n",
    "transformer.set_raw_scale('data', 255)  # the reference model operates on images in [0,255] range instead of [0,1]\n",
    "transformer.set_channel_swap('data', (2,1,0))  # the reference model has channels in BGR order instead of RGB\n",
    "\n",
    "def readImages(images):\n",
    "    imageLen=len(images)\n",
    "    imageDataList=[]\n",
    "    for imageIdx in range(imageLen):\n",
    "        imageName=images[imageIdx]\n",
    "        imageImage=transformer.preprocess('data', caffe.io.load_image(imageName))\n",
    "        imageDataList.append(imageImage[:,h:h+H,w:w+W])\n",
    "        imageIdx+=1\n",
    "    #imageData and imageData\n",
    "    imageData=np.asarray(imageDataList)\n",
    "    return imageData\n",
    "    \n",
    "def generateScoreList(net,probes,gallerys):\n",
    "    N,C,H,W=net.blobs['data'].data.shape\n",
    "    from time import clock\n",
    "    start=clock()\n",
    "    #galleryData is same for each probe\n",
    "    probeData=readImages(probes)\n",
    "    galleryData=readImages(gallerys)\n",
    "    \n",
    "    net.blobs['data'].reshape(len(probes)+len(gallerys),C,H,W)\n",
    "    net.blobs['data'].data[:len(probes),:] = probeData\n",
    "    net.blobs['data'].data[len(probes):,:] = galleryData\n",
    "    net.forward()\n",
    "    \n",
    "    scoreList=calcScoreList(net,len(probes))\n",
    "    #we get scoreList, then cal predictLists\n",
    "    predictLists=[]\n",
    "    for score in scoreList:\n",
    "        probeRankList=np.argsort(score)[::-1]\n",
    "        predictLists.append(probeRankList)\n",
    "    finish=clock()\n",
    "    print('\\r  Processing %dx%d pairs cost %f second time'%(len(probes),len(gallerys),(finish-start)))\n",
    "    return scoreList,predictLists\n",
    "\n",
    "def calcScoreList(net,len_probes):\n",
    "    return calcEuclideanScoreList(net,len_probes)\n",
    "\n",
    "def calcEuclideanScoreList(net,len_probes):\n",
    "    scoreList=[]\n",
    "    features_probe=net.blobs['normed_feature'].data[:len_probes,:]\n",
    "    features_gallery=net.blobs['normed_feature'].data[len_probes:,:]\n",
    "    features_probe=np.squeeze(features_probe)\n",
    "    features_gallery=np.squeeze(features_gallery)\n",
    "    for probeIdx in range(len_probes):\n",
    "        cur_features=np.zeros(features_gallery.shape)\n",
    "        cur_features[:]=features_probe[probeIdx,:]\n",
    "        score_list_probe=euclideanScoreList(cur_features,features_gallery)\n",
    "        scoreList.append(score_list_probe)\n",
    "    return scoreList\n",
    "\n",
    "def euclideanScoreList(feature1,feature2):\n",
    "    #original shape (100,512,1,1), squeeze to (100,512)\n",
    "    dist = np.sqrt(np.sum((feature1-feature2)**2,axis=1))\n",
    "    similarScore=1.0/(1.0+dist)\n",
    "    return similarScore.tolist()\n"
   ]
  },
  {
   "cell_type": "code",
   "execution_count": 35,
   "metadata": {
    "collapsed": false,
    "scrolled": false
   },
   "outputs": [
    {
     "name": "stdout",
     "output_type": "stream",
     "text": [
      "../../dataset/cuhk03/cuhk03_release/exp_set/set01_test_noval.txt\n",
      "\n",
      "Round 0 with rand list:\n",
      "  Processing 100x100 pairs cost 0.871851 second time\n",
      "[ 0.8   0.88  0.9   0.94  0.96] 0.864565998329\n",
      "Round 1 with rand list:\n",
      "  Processing 100x100 pairs cost 0.797835 second time\n",
      "[ 0.83  0.91  0.95  0.96  0.96] 0.892023809524\n",
      "Round 2 with rand list:\n",
      "  Processing 100x100 pairs cost 0.897465 second time\n",
      "[ 0.75  0.91  0.92  0.95  0.96] 0.846909090909\n",
      "Round 3 with rand list:\n",
      "  Processing 100x100 pairs cost 0.903776 second time\n",
      "[ 0.75  0.94  0.97  0.98  0.99] 0.859976190476\n",
      "Round 4 with rand list:\n",
      "  Processing 100x100 pairs cost 0.856634 second time\n",
      "[ 0.89  0.95  0.95  0.95  0.97] 0.927083333333\n",
      "Round 5 with rand list:\n",
      "  Processing 100x100 pairs cost 0.887496 second time\n",
      "[ 0.76  0.89  0.92  0.95  0.97] 0.849261904762\n",
      "Round 6 with rand list:\n",
      "  Processing 100x100 pairs cost 0.882732 second time\n",
      "[ 0.79  0.9   0.93  0.96  0.97] 0.867289432789\n",
      "Round 7 with rand list:\n",
      "  Processing 100x100 pairs cost 0.805169 second time\n",
      "[ 0.76  0.88  0.91  0.95  0.95] 0.845178321678\n",
      "Round 8 with rand list:\n",
      "  Processing 100x100 pairs cost 0.813188 second time\n",
      "[ 0.82  0.9   0.92  0.94  0.96] 0.879285714286\n",
      "Round 9 with rand list:\n",
      "  Processing 100x100 pairs cost 0.809276 second time\n",
      "[ 0.82  0.9   0.93  0.96  0.99] 0.884333333333\n",
      "Round 10 with rand list:\n",
      "  Processing 100x100 pairs cost 0.805409 second time\n",
      "[ 0.84  0.89  0.93  0.97  0.97] 0.891361111111\n",
      "Round 11 with rand list:\n",
      "  Processing 100x100 pairs cost 0.807462 second time\n",
      "[ 0.77  0.87  0.93  0.95  0.97] 0.851335164835\n",
      "Round 12 with rand list:\n",
      "  Processing 100x100 pairs cost 0.813700 second time\n",
      "[ 0.81  0.91  0.94  0.96  0.97] 0.87986038961\n",
      "Round 13 with rand list:\n",
      "  Processing 100x100 pairs cost 0.792522 second time\n",
      "[ 0.78  0.88  0.92  0.94  0.95] 0.856043040293\n",
      "\n",
      "CMC from rank 1 to rank 100:\n",
      "[ 0.79785714  0.90071429  0.93        0.95428571  0.96714286  0.97214286\n",
      "  0.97642857  0.98071429  0.98214286  0.98357143  0.98571429  0.99\n",
      "  0.99214286  0.99285714  0.99428571  0.99428571  0.99428571  0.99428571\n",
      "  0.995       0.99571429  0.99642857  0.99642857  0.99642857  0.99642857\n",
      "  0.99642857  0.99642857  0.99642857  0.99714286  0.99714286  0.99714286\n",
      "  0.99714286  0.99714286  0.99714286  0.99714286  0.99785714  0.99857143\n",
      "  0.99857143  0.99857143  0.99857143  0.99857143  0.99857143  0.99857143\n",
      "  0.99857143  0.99857143  0.99857143  0.99857143  0.99857143  0.99857143\n",
      "  0.99857143  0.99857143  0.99857143  0.99928571  0.99928571  0.99928571\n",
      "  1.          1.          1.          1.          1.          1.        ] 0.871036202519\n"
     ]
    }
   ],
   "source": [
    "#caculate CMC\n",
    "set_no=1         #use set 1-10 for test (total 20)\n",
    "cmc_list=[]\n",
    "cmc,mAP=calCMC(net,set_no,rand_times=14)\n",
    "cmc_list.append(cmc)\n",
    "cmc_all=np.average(cmc_list,axis=0)\n",
    "print('\\nCMC from rank 1 to rank %d:'%(len(cmc_all)))\n",
    "print(cmc_all[:60]),mAP"
   ]
  },
  {
   "cell_type": "code",
   "execution_count": 36,
   "metadata": {
    "collapsed": false
   },
   "outputs": [
    {
     "data": {
      "image/png": "[encoded data removed]",
      "text/plain": [
       "<matplotlib.figure.Figure at 0x7f2404ea9810>"
      ]
     },
     "metadata": {},
     "output_type": "display_data"
    },
    {
     "name": "stdout",
     "output_type": "stream",
     "text": [
      "79.79\t96.71\t98.36\t99.57; mAP:87.10\n"
     ]
    }
   ],
   "source": [
    "#dict of cmc, each value is a cmc list (at least 50 dim vetor, rank 1 to rank 50)\n",
    "cmcDict={}\n",
    "cmcDict['CVPR15Imp']=getCVPRcmc()\n",
    "cmcDict[model_name]=cmc_all\n",
    "#plot the dictionary, sorted by rank1 rate\n",
    "plotCMC(cmcDict)\n",
    "v=[c*100 for c in cmc_all]\n",
    "print ('%.2f\\t%.2f\\t%.2f\\t%.2f; mAP:%.2f'%(v[0],v[4],v[9],v[19],mAP*100))"
   ]
  },
  {
   "cell_type": "code",
   "execution_count": 37,
   "metadata": {
    "collapsed": false
   },
   "outputs": [],
   "source": [
    "# cmc_draw=[cmc_num0,cmc_num1,cmc_num2,cmc_num4,cmc_num8,cmc_num12]\n",
    "# for cmc in cmc_draw:\n",
    "#     print ('%.4f\\t%.4f\\t%.4f\\t%.4f'%(cmc[0],cmc[4],cmc[9],cmc[19]))"
   ]
  },
  {
   "cell_type": "code",
   "execution_count": 8,
   "metadata": {
    "collapsed": false
   },
   "outputs": [
    {
     "ename": "NameError",
     "evalue": "name 'fds' is not defined",
     "output_type": "error",
     "traceback": [
      "\u001b[0;31m\u001b[0m",
      "\u001b[0;31mNameError\u001b[0mTraceback (most recent call last)",
      "\u001b[0;32m<ipython-input-8-2fadc561b29f>\u001b[0m in \u001b[0;36m<module>\u001b[0;34m()\u001b[0m\n\u001b[0;32m----> 1\u001b[0;31m \u001b[0mfds\u001b[0m\u001b[0;34m\u001b[0m\u001b[0m\n\u001b[0m",
      "\u001b[0;31mNameError\u001b[0m: name 'fds' is not defined"
     ]
    }
   ],
   "source": [
    "fds"
   ]
  },
  {
   "cell_type": "code",
   "execution_count": null,
   "metadata": {
    "collapsed": true
   },
   "outputs": [],
   "source": []
  },
  {
   "cell_type": "code",
   "execution_count": null,
   "metadata": {
    "collapsed": true
   },
   "outputs": [],
   "source": []
  },
  {
   "cell_type": "code",
   "execution_count": null,
   "metadata": {
    "collapsed": true
   },
   "outputs": [],
   "source": []
  },
  {
   "cell_type": "code",
   "execution_count": null,
   "metadata": {
    "collapsed": true
   },
   "outputs": [],
   "source": []
  },
  {
   "cell_type": "code",
   "execution_count": null,
   "metadata": {
    "collapsed": true
   },
   "outputs": [],
   "source": []
  },
  {
   "cell_type": "code",
   "execution_count": null,
   "metadata": {
    "collapsed": true
   },
   "outputs": [],
   "source": []
  },
  {
   "cell_type": "code",
   "execution_count": null,
   "metadata": {
    "collapsed": true
   },
   "outputs": [],
   "source": []
  },
  {
   "cell_type": "code",
   "execution_count": null,
   "metadata": {
    "collapsed": true
   },
   "outputs": [],
   "source": []
  },
  {
   "cell_type": "code",
   "execution_count": null,
   "metadata": {
    "collapsed": true
   },
   "outputs": [],
   "source": []
  },
  {
   "cell_type": "code",
   "execution_count": null,
   "metadata": {
    "collapsed": true
   },
   "outputs": [],
   "source": []
  },
  {
   "cell_type": "code",
   "execution_count": null,
   "metadata": {
    "collapsed": true
   },
   "outputs": [],
   "source": []
  },
  {
   "cell_type": "code",
   "execution_count": null,
   "metadata": {
    "collapsed": true
   },
   "outputs": [],
   "source": []
  },
  {
   "cell_type": "code",
   "execution_count": null,
   "metadata": {
    "collapsed": true
   },
   "outputs": [],
   "source": []
  },
  {
   "cell_type": "code",
   "execution_count": null,
   "metadata": {
    "collapsed": false
   },
   "outputs": [],
   "source": [
    "DATA_DIR=DATASET_DIR\n",
    "list_dir=DATA_DIR[:-1]\n",
    "list_name=list_dir[:list_dir.rfind('/')+1]+'exp_set/set%02d_test_noval.txt'%(set_no)\n",
    "print list_name+'\\n'\n",
    "#rand 10 times for stable result\n",
    "probes,gallerys=readList(list_name,1,DATA_DIR)\n",
    "scoreList,predictLists=generateScoreList(net,probes,gallerys)\n",
    "gtLabels=range(len(probes))\n",
    "cmc,mAP=evaluateCMC(gtLabels,predictLists)\n",
    "print cmc,mAP"
   ]
  },
  {
   "cell_type": "code",
   "execution_count": null,
   "metadata": {
    "collapsed": false
   },
   "outputs": [],
   "source": [
    "import matplotlib.colors as mcolors\n",
    "import matplotlib.pyplot as plt\n",
    "get_ipython().magic(u'matplotlib inline')\n",
    "plt.rcParams['font.size']=0\n",
    "plt.rcParams['axes.axisbelow']=False\n",
    "plt.rcParams['xtick.major.width']=0\n",
    "plt.rcParams['ytick.major.width']=0\n",
    "\n",
    "import numpy as np"
   ]
  },
  {
   "cell_type": "code",
   "execution_count": null,
   "metadata": {
    "collapsed": false
   },
   "outputs": [],
   "source": []
  },
  {
   "cell_type": "code",
   "execution_count": null,
   "metadata": {
    "collapsed": true
   },
   "outputs": [],
   "source": [
    "def person_id(name):\n",
    "    pid=name[name.rfind('/')+4:-7]\n",
    "    return pid\n",
    "\n",
    "def read_image(name):\n",
    "    image=transformer.preprocess('data', caffe.io.load_image(name))\n",
    "    img=transformer.deprocess('data', image)\n",
    "    return img"
   ]
  },
  {
   "cell_type": "code",
   "execution_count": null,
   "metadata": {
    "collapsed": false
   },
   "outputs": [],
   "source": [
    "plt.figure(figsize=(12,6))\n",
    "probe_id=32\n",
    "NUM=8\n",
    "plt.subplot(1,NUM+1,1);plt.imshow(read_image(probes[probe_id]))\n",
    "plt.title(person_id(probes[probe_id]),fontsize=10)\n",
    "idxs=predictLists[probe_id]\n",
    "print idxs[:NUM]\n",
    "for i in range(NUM):\n",
    "    plt.subplot(1,NUM+1,i+2);\n",
    "    gallery=gallerys[idxs[i]]\n",
    "    plt.title(person_id(gallery),fontsize=10)\n",
    "    plt.imshow(read_image(gallery))"
   ]
  },
  {
   "cell_type": "code",
   "execution_count": null,
   "metadata": {
    "collapsed": true
   },
   "outputs": [],
   "source": []
  },
  {
   "cell_type": "code",
   "execution_count": null,
   "metadata": {
    "collapsed": true
   },
   "outputs": [],
   "source": []
  },
  {
   "cell_type": "code",
   "execution_count": null,
   "metadata": {
    "collapsed": true
   },
   "outputs": [],
   "source": []
  },
  {
   "cell_type": "code",
   "execution_count": null,
   "metadata": {
    "collapsed": true
   },
   "outputs": [],
   "source": []
  },
  {
   "cell_type": "code",
   "execution_count": null,
   "metadata": {
    "collapsed": true
   },
   "outputs": [],
   "source": []
  },
  {
   "cell_type": "code",
   "execution_count": null,
   "metadata": {
    "collapsed": true
   },
   "outputs": [],
   "source": []
  },
  {
   "cell_type": "code",
   "execution_count": null,
   "metadata": {
    "collapsed": true
   },
   "outputs": [],
   "source": []
  },
  {
   "cell_type": "code",
   "execution_count": null,
   "metadata": {
    "collapsed": true
   },
   "outputs": [],
   "source": []
  },
  {
   "cell_type": "code",
   "execution_count": null,
   "metadata": {
    "collapsed": true
   },
   "outputs": [],
   "source": []
  },
  {
   "cell_type": "code",
   "execution_count": null,
   "metadata": {
    "collapsed": true
   },
   "outputs": [],
   "source": []
  },
  {
   "cell_type": "code",
   "execution_count": null,
   "metadata": {
    "collapsed": true
   },
   "outputs": [],
   "source": []
  },
  {
   "cell_type": "code",
   "execution_count": null,
   "metadata": {
    "collapsed": true
   },
   "outputs": [],
   "source": []
  },
  {
   "cell_type": "code",
   "execution_count": null,
   "metadata": {
    "collapsed": true
   },
   "outputs": [],
   "source": []
  },
  {
   "cell_type": "code",
   "execution_count": null,
   "metadata": {
    "collapsed": true
   },
   "outputs": [],
   "source": []
  },
  {
   "cell_type": "code",
   "execution_count": null,
   "metadata": {
    "collapsed": true
   },
   "outputs": [],
   "source": []
  },
  {
   "cell_type": "code",
   "execution_count": null,
   "metadata": {
    "collapsed": true
   },
   "outputs": [],
   "source": []
  },
  {
   "cell_type": "code",
   "execution_count": null,
   "metadata": {
    "collapsed": true
   },
   "outputs": [],
   "source": []
  },
  {
   "cell_type": "code",
   "execution_count": null,
   "metadata": {
    "collapsed": true
   },
   "outputs": [],
   "source": []
  },
  {
   "cell_type": "code",
   "execution_count": null,
   "metadata": {
    "collapsed": true
   },
   "outputs": [],
   "source": []
  },
  {
   "cell_type": "code",
   "execution_count": null,
   "metadata": {
    "collapsed": true
   },
   "outputs": [],
   "source": []
  },
  {
   "cell_type": "code",
   "execution_count": null,
   "metadata": {
    "collapsed": true
   },
   "outputs": [],
   "source": []
  },
  {
   "cell_type": "code",
   "execution_count": null,
   "metadata": {
    "collapsed": true
   },
   "outputs": [],
   "source": []
  },
  {
   "cell_type": "code",
   "execution_count": null,
   "metadata": {
    "collapsed": true
   },
   "outputs": [],
   "source": []
  },
  {
   "cell_type": "code",
   "execution_count": null,
   "metadata": {
    "collapsed": true
   },
   "outputs": [],
   "source": []
  },
  {
   "cell_type": "code",
   "execution_count": null,
   "metadata": {
    "collapsed": true
   },
   "outputs": [],
   "source": []
  },
  {
   "cell_type": "code",
   "execution_count": null,
   "metadata": {
    "collapsed": true
   },
   "outputs": [],
   "source": []
  },
  {
   "cell_type": "code",
   "execution_count": null,
   "metadata": {
    "collapsed": true
   },
   "outputs": [],
   "source": []
  },
  {
   "cell_type": "code",
   "execution_count": null,
   "metadata": {
    "collapsed": true
   },
   "outputs": [],
   "source": []
  },
  {
   "cell_type": "code",
   "execution_count": null,
   "metadata": {
    "collapsed": true
   },
   "outputs": [],
   "source": []
  },
  {
   "cell_type": "code",
   "execution_count": null,
   "metadata": {
    "collapsed": true
   },
   "outputs": [],
   "source": []
  },
  {
   "cell_type": "code",
   "execution_count": null,
   "metadata": {
    "collapsed": true
   },
   "outputs": [],
   "source": []
  },
  {
   "cell_type": "code",
   "execution_count": null,
   "metadata": {
    "collapsed": true
   },
   "outputs": [],
   "source": []
  },
  {
   "cell_type": "code",
   "execution_count": null,
   "metadata": {
    "collapsed": true
   },
   "outputs": [],
   "source": []
  },
  {
   "cell_type": "code",
   "execution_count": null,
   "metadata": {
    "collapsed": true
   },
   "outputs": [],
   "source": []
  },
  {
   "cell_type": "code",
   "execution_count": null,
   "metadata": {
    "collapsed": true
   },
   "outputs": [],
   "source": []
  },
  {
   "cell_type": "code",
   "execution_count": null,
   "metadata": {
    "collapsed": true
   },
   "outputs": [],
   "source": []
  },
  {
   "cell_type": "code",
   "execution_count": null,
   "metadata": {
    "collapsed": true
   },
   "outputs": [],
   "source": []
  },
  {
   "cell_type": "code",
   "execution_count": null,
   "metadata": {
    "collapsed": true
   },
   "outputs": [],
   "source": []
  },
  {
   "cell_type": "code",
   "execution_count": null,
   "metadata": {
    "collapsed": true
   },
   "outputs": [],
   "source": []
  },
  {
   "cell_type": "code",
   "execution_count": null,
   "metadata": {
    "collapsed": true
   },
   "outputs": [],
   "source": []
  },
  {
   "cell_type": "code",
   "execution_count": null,
   "metadata": {
    "collapsed": false
   },
   "outputs": [],
   "source": [
    "cmc_nums=[cmc_num0,cmc_num1,cmc_num2,cmc_num4,cmc_num6,cmc_num8,cmc_num10,cmc_num12]\n",
    "for cmc in cmc_nums:\n",
    "    print ('%.4f\\t%.4f\\t%.4f\\t%.4f'%(cmc[0],cmc[4],cmc[9],cmc[19]))\n",
    "cmc_rank1=[v[0] for v in cmc_nums]\n",
    "print cmc_rank1"
   ]
  },
  {
   "cell_type": "code",
   "execution_count": null,
   "metadata": {
    "collapsed": false
   },
   "outputs": [],
   "source": [
    "cmc_draw=[cmc_num0,cmc_num1,cmc_num2,cmc_num4,cmc_num8,cmc_num12]\n",
    "for cmc in cmc_draw:\n",
    "    print ('%.4f\\t%.4f\\t%.4f\\t%.4f'%(cmc[0],cmc[4],cmc[9],cmc[19]))"
   ]
  },
  {
   "cell_type": "code",
   "execution_count": null,
   "metadata": {
    "collapsed": false
   },
   "outputs": [],
   "source": []
  },
  {
   "cell_type": "code",
   "execution_count": null,
   "metadata": {
    "collapsed": true
   },
   "outputs": [],
   "source": []
  },
  {
   "cell_type": "code",
   "execution_count": null,
   "metadata": {
    "collapsed": true
   },
   "outputs": [],
   "source": []
  },
  {
   "cell_type": "code",
   "execution_count": null,
   "metadata": {
    "collapsed": true
   },
   "outputs": [],
   "source": []
  },
  {
   "cell_type": "code",
   "execution_count": null,
   "metadata": {
    "collapsed": true
   },
   "outputs": [],
   "source": []
  },
  {
   "cell_type": "code",
   "execution_count": null,
   "metadata": {
    "collapsed": true
   },
   "outputs": [],
   "source": []
  },
  {
   "cell_type": "code",
   "execution_count": null,
   "metadata": {
    "collapsed": true
   },
   "outputs": [],
   "source": []
  },
  {
   "cell_type": "code",
   "execution_count": null,
   "metadata": {
    "collapsed": true
   },
   "outputs": [],
   "source": [
    "import matplotlib.pyplot as plt\n",
    "%matplotlib inline"
   ]
  },
  {
   "cell_type": "code",
   "execution_count": null,
   "metadata": {
    "collapsed": true
   },
   "outputs": [],
   "source": [
    "# MODEL_FILE = '../../exp/market/bn_xavier/num8/test.prototxt'\n",
    "# PRETRAINED = '../../exp/market/bn_xavier/num8/snapshot/market_iter_2000.caffemodel'\n",
    "# caffe.set_device(0)\n",
    "# caffe.set_mode_gpu()\n",
    "# net = caffe.Classifier(MODEL_FILE, PRETRAINED,caffe.TEST)"
   ]
  },
  {
   "cell_type": "code",
   "execution_count": null,
   "metadata": {
    "collapsed": false
   },
   "outputs": [],
   "source": [
    "input_name=['D:/v-limz/dataset/cuhk03/cuhk03_release/data/campair_1/01_0023_01.jpg']*2\n",
    "generateScoreList(net,input_name,input_name)\n",
    "input_im=caffe.io.load_image(input_name[0])\n",
    "plt.imshow(input_im)"
   ]
  },
  {
   "cell_type": "code",
   "execution_count": null,
   "metadata": {
    "collapsed": false
   },
   "outputs": [],
   "source": [
    "idx=5\n",
    "\n",
    "att_weights=np.squeeze(net.params['mask_conv_%d'%idx][0].data)\n",
    "att_beta=np.squeeze(net.params['mask_conv_%d'%idx][1].data)\n",
    "print att_weights.shape\n",
    "att_conv=np.squeeze(net.blobs['mask_conv_%d'%idx].data)\n",
    "att_map=np.squeeze(net.blobs['mask_map_%d'%idx].data)\n",
    "print att_conv.shape,att_map.shape\n",
    "print att_conv.shape\n",
    "plt.figure(figsize=(12,3))\n",
    "plt.subplot(1,3,1);plt.plot(range(att_weights.shape[0]),att_weights)\n",
    "print att_weights.min(),att_weights.max(),np.std(att_weights)\n",
    "plt.subplot(1,3,2);plt.imshow(att_conv[0,:],cmap='gray')\n",
    "plt.subplot(1,3,3);plt.imshow(att_map[0,:],cmap='gray')\n",
    "print att_conv[:].min(),att_conv[:].max(),np.std(att_conv[:])"
   ]
  },
  {
   "cell_type": "code",
   "execution_count": null,
   "metadata": {
    "collapsed": false
   },
   "outputs": [],
   "source": [
    "np.std(net.params['input_feat'][0].data)"
   ]
  },
  {
   "cell_type": "code",
   "execution_count": null,
   "metadata": {
    "collapsed": true
   },
   "outputs": [],
   "source": []
  },
  {
   "cell_type": "code",
   "execution_count": null,
   "metadata": {
    "collapsed": false
   },
   "outputs": [],
   "source": [
    "layer_name='inception_4e/output'\n",
    "layer_name='input_feat'\n",
    "input_idx=2\n",
    "input_feature=np.squeeze(net.blobs[layer_name].data[0])\n",
    "print input_feature.shape#,np.std(net.params[layer_name][0].data)\n",
    "plt.imshow(input_feature[input_idx,:])\n",
    "print input_feature.min(),input_feature.max(),np.std(input_feature)"
   ]
  },
  {
   "cell_type": "code",
   "execution_count": null,
   "metadata": {
    "collapsed": false
   },
   "outputs": [],
   "source": [
    "from PIL import Image\n",
    "plt.rcParams['font.size']=0\n",
    "plt.rcParams['axes.axisbelow']=True\n",
    "plt.rcParams['xtick.major.width']=0\n",
    "plt.rcParams['ytick.major.width']=0"
   ]
  },
  {
   "cell_type": "code",
   "execution_count": null,
   "metadata": {
    "collapsed": false
   },
   "outputs": [],
   "source": [
    "data_dir=r'\\\\msradeepvideo01\\v-limz\\dataset\\cuhk03\\cuhk03_release\\data\\\\clothing_segmentation'\n",
    "image_dir=r'\\\\msradeepvideo01\\v-limz\\dataset\\cuhk03\\cuhk03_release\\data'\n",
    "idx=229\n",
    "one_name=r'\\campair_1\\01_%04d_01.jpg'%idx\n",
    "file_name=image_dir+one_name\n",
    "map_name=data_dir+one_name.replace('jpg','png')\n",
    "\n",
    "# name='sample'\n",
    "# file_name=image_dir+r'\\upload\\%s.jpg'%name\n",
    "# map_name=data_dir+r'\\upload\\%s.png'%name\n"
   ]
  },
  {
   "cell_type": "code",
   "execution_count": null,
   "metadata": {
    "collapsed": false
   },
   "outputs": [],
   "source": [
    "im=np.array(Image.open(file_name))\n",
    "seg=np.array(Image.open(map_name))\n",
    "# print seg[100:110,50:60]\n",
    "\n",
    "plt.subplot(1,2,1);plt.imshow(im)\n",
    "plt.subplot(1,2,2);plt.imshow(seg)"
   ]
  },
  {
   "cell_type": "code",
   "execution_count": null,
   "metadata": {
    "collapsed": false
   },
   "outputs": [],
   "source": [
    "seg.max()"
   ]
  },
  {
   "cell_type": "code",
   "execution_count": null,
   "metadata": {
    "collapsed": true
   },
   "outputs": [],
   "source": []
  },
  {
   "cell_type": "code",
   "execution_count": null,
   "metadata": {
    "collapsed": true
   },
   "outputs": [],
   "source": []
  }
 ],
 "metadata": {
  "anaconda-cloud": {},
  "kernelspec": {
   "display_name": "Python [default]",
   "language": "python",
   "name": "python2"
  },
  "language_info": {
   "codemirror_mode": {
    "name": "ipython",
    "version": 2
   },
   "file_extension": ".py",
   "mimetype": "text/x-python",
   "name": "python",
   "nbconvert_exporter": "python",
   "pygments_lexer": "ipython2",
   "version": "2.7.13"
  }
 },
 "nbformat": 4,
 "nbformat_minor": 0
}
